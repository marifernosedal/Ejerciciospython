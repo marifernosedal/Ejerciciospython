{
  "nbformat": 4,
  "nbformat_minor": 0,
  "metadata": {
    "colab": {
      "provenance": [],
      "include_colab_link": true
    },
    "kernelspec": {
      "name": "python3",
      "display_name": "Python 3"
    },
    "language_info": {
      "name": "python"
    }
  },
  "cells": [
    {
      "cell_type": "markdown",
      "metadata": {
        "id": "view-in-github",
        "colab_type": "text"
      },
      "source": [
        "<a href=\"https://colab.research.google.com/github/marifernosedal/Ejerciciospython/blob/main/%20THC_NosedalMa.Fernanda_TAREA4.ipynb\" target=\"_parent\"><img src=\"https://colab.research.google.com/assets/colab-badge.svg\" alt=\"Open In Colab\"/></a>"
      ]
    },
    {
      "cell_type": "code",
      "source": [
        "def heron():\n",
        "  \"\"\"\n",
        "  Programe una función que calcule el área de un triángulo utilizando la fórmula de Herón.\n",
        "  Complemente el ejercicio con las condiciones solicitadas en la tarea 3:\n",
        "  1.- Que los valores del triángulo sean positivos. Que se repita el programa hasta los tres valores sean positivos.\n",
        "  (hint: ciclo while y condicional if-elif-else).\n",
        "  2.- Que se cumpla la desigualdad triangular.\n",
        "  3.- Operaciones (calculo del semiperímetro y el área).\n",
        "  4.- Indique con comentarios sus variables globales y locales.\n",
        "  5.- Llamada a la función con sus argumentos e impresión en pantalla del resultado.\n",
        "  \"\"\"\n",
        "\n",
        "  # 🔹 Variables locales: solo existen dentro de la función\n",
        "  while True:\n",
        "      a = float(input(\"Ingresa el valor del lado a: \"))\n",
        "      b = float(input(\"Ingresa el valor del lado b: \"))\n",
        "      c = float(input(\"Ingresa el valor del lado c: \"))\n",
        "\n",
        "      # Condición 1: lados positivos\n",
        "      if a <= 0 or b <= 0 or c <= 0:\n",
        "          print(\"❌ Los valores deben ser positivos. Intenta de nuevo.\\n\")\n",
        "          continue\n",
        "\n",
        "      # Condición 2: desigualdad triangular\n",
        "      if (a + b <= c) or (a + c <= b) or (b + c <= a):\n",
        "          print(\"❌ Los lados no cumplen la desigualdad triangular. Intenta de nuevo.\\n\")\n",
        "          continue\n",
        "\n",
        "      # Si pasa las validaciones, rompemos el ciclo\n",
        "      break\n",
        "\n",
        "  # 🔹 Cálculo del semiperímetro (variable local)\n",
        "  s = (a + b + c) / 2\n",
        "\n",
        "  # 🔹 Cálculo del área con la fórmula de Herón (variable local)\n",
        "  area = (s * (s - a) * (s - b) * (s - c)) ** 0.5\n",
        "\n",
        "  # 🔹 Mostrar el resultado\n",
        "  print(f\"✅ El área del triángulo con lados {a}, {b} y {c} es: {area:.2f}\")\n",
        "\n",
        "\n",
        "# 🔸 Variable global: llamada a la función\n",
        "heron()\n"
      ],
      "metadata": {
        "id": "fGbKc-2zW9Dx",
        "outputId": "37b6d545-b68f-4b0c-97ee-2ef19a466d0b",
        "colab": {
          "base_uri": "https://localhost:8080/"
        }
      },
      "execution_count": 2,
      "outputs": [
        {
          "output_type": "stream",
          "name": "stdout",
          "text": [
            "Ingresa el valor del lado a: 9\n",
            "Ingresa el valor del lado b: 6\n",
            "Ingresa el valor del lado c: 4\n",
            "✅ El área del triángulo con lados 9.0, 6.0 y 4.0 es: 9.56\n"
          ]
        }
      ]
    }
  ]
}