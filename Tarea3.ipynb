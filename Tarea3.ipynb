{
  "nbformat": 4,
  "nbformat_minor": 0,
  "metadata": {
    "colab": {
      "provenance": [],
      "authorship_tag": "ABX9TyNyUecGVhMcQ0GG72Pcmpnt",
      "include_colab_link": true
    },
    "kernelspec": {
      "name": "python3",
      "display_name": "Python 3"
    },
    "language_info": {
      "name": "python"
    }
  },
  "cells": [
    {
      "cell_type": "markdown",
      "metadata": {
        "id": "view-in-github",
        "colab_type": "text"
      },
      "source": [
        "<a href=\"https://colab.research.google.com/github/marifernosedal/Ejerciciospython/blob/main/Tarea3.ipynb\" target=\"_parent\"><img src=\"https://colab.research.google.com/assets/colab-badge.svg\" alt=\"Open In Colab\"/></a>"
      ]
    },
    {
      "cell_type": "code",
      "source": [
        "# Ejercicio 1 - Conversión de dólares a otras monedas\n",
        "\n",
        "print(\"Ejercicio 1\\n\")\n",
        "\n",
        "usd = 50  # dólares de ejemplo\n",
        "\n",
        "# Tasas de cambio\n",
        "mxn = usd * 18\n",
        "eur = usd * 0.92\n",
        "gbp = usd * 0.78\n",
        "cny = usd * 7.3\n",
        "rub = usd * 96\n",
        "\n",
        "print(f\"{usd} USD equivalen a:\")\n",
        "print(f\"{mxn} pesos mexicanos\")\n",
        "print(f\"{eur} euros\")\n",
        "print(f\"{gbp} libras esterlinas\")\n",
        "print(f\"{cny} yuanes\")\n",
        "print(f\"{rub} rublos\")\n"
      ],
      "metadata": {
        "colab": {
          "base_uri": "https://localhost:8080/"
        },
        "id": "dVseOyo9qdcb",
        "outputId": "fdbeaac0-e576-4813-c994-1a104cb1c1d3"
      },
      "execution_count": 38,
      "outputs": [
        {
          "output_type": "stream",
          "name": "stdout",
          "text": [
            "Ejercicio 1\n",
            "\n",
            "50 USD equivalen a:\n",
            "900 pesos mexicanos\n",
            "46.0 euros\n",
            "39.0 libras esterlinas\n",
            "365.0 yuanes\n",
            "4800 rublos\n"
          ]
        }
      ]
    },
    {
      "cell_type": "code",
      "source": [
        "# Ejercicio 2 - Operaciones básicas entre dos números\n",
        "\n",
        "print(\"Ejercicio 2\\n\")\n",
        "\n",
        "# Valores de ejemplo\n",
        "a = 8\n",
        "b = 3\n",
        "\n",
        "# Operaciones\n",
        "suma = a + b\n",
        "resta = a - b\n",
        "multiplicacion = a * b\n",
        "division = a / b\n",
        "potencia = a ** b\n",
        "raiz_a = a ** 0.5\n",
        "raiz_b = b ** 0.5\n",
        "\n",
        "# Mostrar resultados\n",
        "print(f\"{a} + {b} = {suma}\")\n",
        "print(f\"{a} - {b} = {resta}\")\n",
        "print(f\"{a} * {b} = {multiplicacion}\")\n",
        "print(f\"{a} / {b} = {division:.2f}\")\n",
        "print(f\"{a}^{b} = {potencia}\")\n",
        "print(f\"Raíz cuadrada de {a} = {raiz_a:.2f}\")\n",
        "print(f\"Raíz cuadrada de {b} = {raiz_b:.2f}\")\n"
      ],
      "metadata": {
        "colab": {
          "base_uri": "https://localhost:8080/"
        },
        "id": "dn-IWOUpq1LR",
        "outputId": "feae37fb-a6e1-4267-e9df-95f92bfeb5bc"
      },
      "execution_count": 39,
      "outputs": [
        {
          "output_type": "stream",
          "name": "stdout",
          "text": [
            "Ejercicio 2\n",
            "\n",
            "8 + 3 = 11\n",
            "8 - 3 = 5\n",
            "8 * 3 = 24\n",
            "8 / 3 = 2.67\n",
            "8^3 = 512\n",
            "Raíz cuadrada de 8 = 2.83\n",
            "Raíz cuadrada de 3 = 1.73\n"
          ]
        }
      ]
    },
    {
      "cell_type": "code",
      "source": [
        "# Ejercicio 3 - Precio final con descuento\n",
        "\n",
        "print(\"Ejercicio 3\\n\")\n",
        "\n",
        "# Valores de ejemplo\n",
        "precio_original = 150.0  # precio en pesos\n",
        "descuento = 20           # porcentaje de descuento\n",
        "\n",
        "# Cálculo del precio final\n",
        "precio_final = precio_original * (1 - descuento / 100)\n",
        "\n",
        "# Mostrar resultados\n",
        "print(f\"Precio original: ${precio_original:.2f}\")\n",
        "print(f\"Descuento: {descuento}%\")\n",
        "print(f\"Precio final: ${precio_final:.2f}\")\n"
      ],
      "metadata": {
        "colab": {
          "base_uri": "https://localhost:8080/"
        },
        "id": "sOi1J56krFPy",
        "outputId": "75bf83b5-88b5-4ece-9454-d0b95470a4d5"
      },
      "execution_count": 40,
      "outputs": [
        {
          "output_type": "stream",
          "name": "stdout",
          "text": [
            "Ejercicio 3\n",
            "\n",
            "Precio original: $150.00\n",
            "Descuento: 20%\n",
            "Precio final: $120.00\n"
          ]
        }
      ]
    },
    {
      "cell_type": "code",
      "source": [
        "# Ejercicio 4 - Conversión de coordenadas geográficas\n",
        "\n",
        "print(\"Ejercicio 4\\n\")\n",
        "\n",
        "# Coordenadas en grados, minutos, segundos\n",
        "# 1. Estatua de la Libertad\n",
        "lat1_g, lat1_m, lat1_s = 40, 41, 21\n",
        "lon1_g, lon1_m, lon1_s = 74, 2, 40\n",
        "\n",
        "# 2. Torre Eiffel\n",
        "lat2_g, lat2_m, lat2_s = 48, 51, 12\n",
        "lon2_g, lon2_m, lon2_s = 2, 20, 55\n",
        "\n",
        "# 3. Sídney\n",
        "lat3_g, lat3_m, lat3_s = 34, 3, 8\n",
        "lon3_g, lon3_m, lon3_s = 151, 12, 33\n",
        "\n",
        "# Conversión a grados decimales\n",
        "lat1 = lat1_g + lat1_m/60 + lat1_s/3600\n",
        "lon1 = -(lon1_g + lon1_m/60 + lon1_s/3600)  # Oeste negativo\n",
        "\n",
        "lat2 = lat2_g + lat2_m/60 + lat2_s/3600\n",
        "lon2 = lon2_g + lon2_m/60 + lon2_s/3600    # Este positivo\n",
        "\n",
        "lat3 = -(lat3_g + lat3_m/60 + lat3_s/3600)  # Sur negativo\n",
        "lon3 = lon3_g + lon3_m/60 + lon3_s/3600    # Este positivo\n",
        "\n",
        "# Mostrar resultados\n",
        "print(f\"1. Estatua de la Libertad → ({lat1:.3f}, {lon1:.3f})\")\n",
        "print(f\"2. Torre Eiffel → ({lat2:.3f}, {lon2:.3f})\")\n",
        "print(f\"3. Sídney → ({lat3:.3f}, {lon3:.3f})\")\n"
      ],
      "metadata": {
        "colab": {
          "base_uri": "https://localhost:8080/"
        },
        "id": "hAEOhpG6rW7D",
        "outputId": "a1f5a364-feda-44b7-fc17-f8cd6d735b1d"
      },
      "execution_count": 41,
      "outputs": [
        {
          "output_type": "stream",
          "name": "stdout",
          "text": [
            "Ejercicio 4\n",
            "\n",
            "1. Estatua de la Libertad → (40.689, -74.044)\n",
            "2. Torre Eiffel → (48.853, 2.349)\n",
            "3. Sídney → (-34.052, 151.209)\n"
          ]
        }
      ]
    },
    {
      "cell_type": "code",
      "source": [
        "# Ejercicio 5 - Energías del objeto\n",
        "\n",
        "print(\"Ejercicio 5\\n\")\n",
        "\n",
        "# Datos del objeto\n",
        "m = 2      # masa en kg\n",
        "h = 0.10   # altura en metros\n",
        "v = 3      # velocidad en m/s\n",
        "g = 9.8    # gravedad en m/s^2\n",
        "\n",
        "# Cálculos de energía\n",
        "Ec = 0.5 * m * v**2       # energía cinética\n",
        "Ep = m * g * h            # energía potencial\n",
        "Em = Ec + Ep              # energía mecánica total\n",
        "\n",
        "# Mostrar resultados\n",
        "print(f\"Energía cinética (Ec): {Ec:.2f} J\")\n",
        "print(f\"Energía potencial (Ep): {Ep:.2f} J\")\n",
        "print(f\"Energía mecánica total (Em): {Em:.2f} J\")\n"
      ],
      "metadata": {
        "colab": {
          "base_uri": "https://localhost:8080/"
        },
        "id": "uVOfhKr6ralL",
        "outputId": "d817e916-f964-4e99-aee2-3f3252c0a57e"
      },
      "execution_count": 42,
      "outputs": [
        {
          "output_type": "stream",
          "name": "stdout",
          "text": [
            "Ejercicio 5\n",
            "\n",
            "Energía cinética (Ec): 9.00 J\n",
            "Energía potencial (Ep): 1.96 J\n",
            "Energía mecánica total (Em): 10.96 J\n"
          ]
        }
      ]
    },
    {
      "cell_type": "code",
      "source": [
        "# Ejercicio 6 - Número par o impar\n",
        "\n",
        "print(\"Ejercicio 6\\n\")\n",
        "\n",
        "# Número de ejemplo\n",
        "num = 17\n",
        "\n",
        "# Determinar paridad\n",
        "if num % 2 == 0:\n",
        "    print(f\"El número {num} es PAR.\")\n",
        "else:\n",
        "    print(f\"El número {num} es IMPAR.\")\n"
      ],
      "metadata": {
        "colab": {
          "base_uri": "https://localhost:8080/"
        },
        "id": "_ZKZ0XNXrxab",
        "outputId": "2875e756-c3a9-4000-a538-39fae3339092"
      },
      "execution_count": 43,
      "outputs": [
        {
          "output_type": "stream",
          "name": "stdout",
          "text": [
            "Ejercicio 6\n",
            "\n",
            "El número 17 es IMPAR.\n"
          ]
        }
      ]
    },
    {
      "cell_type": "code",
      "source": [
        "# Ejercicio 7 - Tipo de triángulo\n",
        "\n",
        "print(\"Ejercicio 7\\n\")\n",
        "\n",
        "# Lados de ejemplo\n",
        "a, b, c = 5, 5, 7\n",
        "\n",
        "# Verificar si forman un triángulo\n",
        "if a + b > c and a + c > b and b + c > a:\n",
        "    if a == b == c:\n",
        "        tipo = \"EQUILÁTERO\"\n",
        "    elif a == b or a == c or b == c:\n",
        "        tipo = \"ISÓSCELES\"\n",
        "    else:\n",
        "        tipo = \"ESCALENO\"\n",
        "    print(f\"Los lados {a}, {b}, {c} forman un triángulo {tipo}.\")\n",
        "else:\n",
        "    print(f\"Los lados {a}, {b}, {c} NO forman un triángulo válido.\")\n"
      ],
      "metadata": {
        "colab": {
          "base_uri": "https://localhost:8080/"
        },
        "id": "paPMMnjXr1qY",
        "outputId": "fde5e00f-34aa-41c6-8f46-42e30b13089c"
      },
      "execution_count": 44,
      "outputs": [
        {
          "output_type": "stream",
          "name": "stdout",
          "text": [
            "Ejercicio 7\n",
            "\n",
            "Los lados 5, 5, 7 forman un triángulo ISÓSCELES.\n"
          ]
        }
      ]
    },
    {
      "cell_type": "code",
      "source": [
        "# Ejercicio 8 - Número mayor entre tres\n",
        "\n",
        "print(\"Ejercicio 8\\n\")\n",
        "\n",
        "# Números de ejemplo\n",
        "x, y, z = 12, 45, 33\n",
        "\n",
        "# Determinar el mayor\n",
        "if x >= y and x >= z:\n",
        "    mayor = x\n",
        "elif y >= x and y >= z:\n",
        "    mayor = y\n",
        "else:\n",
        "    mayor = z\n",
        "\n",
        "# Mostrar resultado\n",
        "print(f\"Los números son {x}, {y}, {z}\")\n",
        "print(f\"El mayor es: {mayor}\")\n"
      ],
      "metadata": {
        "colab": {
          "base_uri": "https://localhost:8080/"
        },
        "id": "sZHlVWaWsCUo",
        "outputId": "458e8a91-745f-4048-df52-67f93f8be95c"
      },
      "execution_count": 45,
      "outputs": [
        {
          "output_type": "stream",
          "name": "stdout",
          "text": [
            "Ejercicio 8\n",
            "\n",
            "Los números son 12, 45, 33\n",
            "El mayor es: 45\n"
          ]
        }
      ]
    },
    {
      "cell_type": "code",
      "source": [
        "# Ejercicio 9 - Relación entre dos rectas\n",
        "\n",
        "print(\"Ejercicio 9\\n\")\n",
        "\n",
        "# Rectas de ejemplo: y = m1*x + b1 y y = m2*x + b2\n",
        "m1, b1 = 2, 3\n",
        "m2, b2 = 2, 5\n",
        "\n",
        "# Verificar relación\n",
        "if m1 == m2:\n",
        "    if b1 == b2:\n",
        "        print(\"Las rectas son COINCIDENTES.\")\n",
        "    else:\n",
        "        print(\"Las rectas son PARALELAS.\")\n",
        "else:\n",
        "    # Se intersectan\n",
        "    x_inter = (b2 - b1) / (m1 - m2)\n",
        "    y_inter = m1 * x_inter + b1\n",
        "    print(f\"Las rectas se INTERSECTAN en el punto ({x_inter:.2f}, {y_inter:.2f})\")\n"
      ],
      "metadata": {
        "colab": {
          "base_uri": "https://localhost:8080/"
        },
        "id": "gx-JqD8dsLvq",
        "outputId": "d6d9c4b5-312d-4b65-a7bf-8f4534ba9db7"
      },
      "execution_count": 46,
      "outputs": [
        {
          "output_type": "stream",
          "name": "stdout",
          "text": [
            "Ejercicio 9\n",
            "\n",
            "Las rectas son PARALELAS.\n"
          ]
        }
      ]
    },
    {
      "cell_type": "code",
      "source": [
        "# Ejercicio 10 - Año bisiesto\n",
        "\n",
        "print(\"Ejercicio 10\\n\")\n",
        "\n",
        "# Año de ejemplo\n",
        "anio = 2024\n",
        "\n",
        "# Verificar si es bisiesto\n",
        "if (anio % 4 == 0 and anio % 100 != 0) or (anio % 400 == 0):\n",
        "    print(f\"El año {anio} es BISIESTO.\")\n",
        "else:\n",
        "    print(f\"El año {anio} NO es bisiesto.\")\n"
      ],
      "metadata": {
        "colab": {
          "base_uri": "https://localhost:8080/"
        },
        "id": "aqMSE9sDsT_x",
        "outputId": "bfed14a2-336d-49cc-cf1c-97cc53ddcd14"
      },
      "execution_count": 47,
      "outputs": [
        {
          "output_type": "stream",
          "name": "stdout",
          "text": [
            "Ejercicio 10\n",
            "\n",
            "El año 2024 es BISIESTO.\n"
          ]
        }
      ]
    }
  ]
}